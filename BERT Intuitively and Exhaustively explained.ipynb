{
 "cells": [
  {
   "cell_type": "markdown",
   "id": "841f685c",
   "metadata": {},
   "source": [
    "# BERT Intuitively and Exhaustively Explained\n",
    "\n",
    "This is a notebook to build and train BERT which follows the tutorial [Link](https://towardsdatascience.com/bert-intuitively-and-exhaustively-explained-48a24ecc1c8a/)"
   ]
  },
  {
   "cell_type": "markdown",
   "id": "4b0941c5",
   "metadata": {},
   "source": [
    "## Load the dataset\n",
    "load dataset in streaming mode as it is big dataset. "
   ]
  },
  {
   "cell_type": "code",
   "execution_count": 1,
   "id": "9416177f-c0c6-4fed-9650-1f1b11b0e816",
   "metadata": {
    "tags": []
   },
   "outputs": [
    {
     "data": {
      "application/vnd.jupyter.widget-view+json": {
       "model_id": "2dc56a1b16d34166b7cb1f3583dde98c",
       "version_major": 2,
       "version_minor": 0
      },
      "text/plain": [
       "Resolving data files:   0%|          | 0/41 [00:00<?, ?it/s]"
      ]
     },
     "metadata": {},
     "output_type": "display_data"
    }
   ],
   "source": [
    "from datasets import load_dataset\n",
    "dataset = load_dataset('wikimedia/wikipedia', '20231101.en', trust_remote_code=True, streaming=True)"
   ]
  },
  {
   "cell_type": "markdown",
   "id": "e71c303c",
   "metadata": {},
   "source": [
    "## Data Engineering"
   ]
  },
  {
   "cell_type": "code",
   "execution_count": 2,
   "id": "27c16aaf-311b-4e9d-a983-edeca867de49",
   "metadata": {
    "tags": []
   },
   "outputs": [],
   "source": [
    "import nltk\n",
    "# nltk.download('punkt') # Sentence tokenizer"
   ]
  },
  {
   "cell_type": "markdown",
   "id": "d7436bfb-331a-4b06-9872-b91262593ff2",
   "metadata": {},
   "source": [
    "### Breaking wikipedia articles into sentences and paragraph"
   ]
  },
  {
   "cell_type": "code",
   "execution_count": 3,
   "id": "c217695a-95ea-4c49-afc1-fa0f2de4d6ce",
   "metadata": {
    "tags": []
   },
   "outputs": [],
   "source": [
    "'''\n",
    "Breaking wikipedia articles into sentences and paragraph\n",
    "'''\n",
    "import itertools\n",
    "\n",
    "num_articles = 1000\n",
    "dataset_iter = iter(dataset['train'])\n",
    "# get n articles\n",
    "articles = list(itertools.islice(dataset_iter, num_articles))"
   ]
  },
  {
   "cell_type": "markdown",
   "id": "1968c3da-edd2-4b13-b3e0-830ea18a097a",
   "metadata": {},
   "source": [
    "#### Get paragraphs"
   ]
  },
  {
   "cell_type": "code",
   "execution_count": null,
   "id": "bb3bacca-0cd6-4a21-a4a8-dd80b224f83f",
   "metadata": {
    "tags": []
   },
   "outputs": [
    {
     "name": "stderr",
     "output_type": "stream",
     "text": [
      "IOPub data rate exceeded.\n",
      "The Jupyter server will temporarily stop sending output\n",
      "to the client in order to avoid crashing it.\n",
      "To change this limit, set the config variable\n",
      "`--ServerApp.iopub_data_rate_limit`.\n",
      "\n",
      "Current values:\n",
      "ServerApp.iopub_data_rate_limit=1000000.0 (bytes/sec)\n",
      "ServerApp.rate_limit_window=3.0 (secs)\n",
      "\n"
     ]
    }
   ],
   "source": [
    "# Get paragraphs\n",
    "paragraphs = []\n",
    "for article in articles:\n",
    "    # print(article)\n",
    "    paragraphs.extend(article['text'].splitlines())\n",
    "\n",
    "paragraphs = [p for p in paragraphs if len(p) > 50]"
   ]
  },
  {
   "cell_type": "markdown",
   "id": "e1a7932a-f415-450c-9287-64e927f8a3b7",
   "metadata": {},
   "source": [
    "### Dividing paragraphs into sentences"
   ]
  },
  {
   "cell_type": "code",
   "execution_count": 5,
   "id": "1fa4ba77-b197-4142-9ea0-de65d47300fb",
   "metadata": {
    "tags": []
   },
   "outputs": [],
   "source": [
    "# dividing paragraphs into sentences\n",
    "divided_paragraphs = []\n",
    "for p in paragraphs:\n",
    "    divided_paragraphs.append(nltk.sent_tokenize(p))"
   ]
  },
  {
   "cell_type": "code",
   "execution_count": 6,
   "id": "6cac9c49-22be-490c-b69d-9fd503c9009c",
   "metadata": {
    "tags": []
   },
   "outputs": [
    {
     "data": {
      "text/plain": [
       "[['Anarchism is a political philosophy and movement that is skeptical of all justifications for authority and seeks to abolish the institutions it claims maintain unnecessary coercion and hierarchy, typically including nation-states, and capitalism.',\n",
       "  'Anarchism advocates for the replacement of the state with stateless societies and voluntary free associations.',\n",
       "  'As a historically left-wing movement, this reading of anarchism is placed on the farthest left of the political spectrum, usually described as the libertarian wing of the socialist movement (libertarian socialism).'],\n",
       " ['Humans have lived in societies without formal hierarchies long before the establishment of states, realms, or empires.',\n",
       "  'With the rise of organised hierarchical bodies, scepticism toward authority also rose.',\n",
       "  'Although traces of anarchist ideas are found all throughout history, modern anarchism emerged from the Enlightenment.',\n",
       "  \"During the latter half of the 19th and the first decades of the 20th century, the anarchist movement flourished in most parts of the world and had a significant role in workers' struggles for emancipation.\",\n",
       "  'Various anarchist schools of thought formed during this period.',\n",
       "  'Anarchists have taken part in several revolutions, most notably in the Paris Commune, the Russian Civil War and the Spanish Civil War, whose end marked the end of the classical era of anarchism.',\n",
       "  'In the last decades of the 20th and into the 21st century, the anarchist movement has been resurgent once more, growing in popularity and influence within anti-capitalist, anti-war and anti-globalisation movements.'],\n",
       " ['Anarchists employ diverse approaches, which may be generally divided into revolutionary and evolutionary strategies; there is significant overlap between the two.',\n",
       "  'Evolutionary methods try to simulate what an anarchist society might be like, but revolutionary tactics, which have historically taken a violent turn, aim to overthrow authority and the state.',\n",
       "  'Many facets of human civilization have been influenced by anarchist theory, critique, and praxis.'],\n",
       " ['The etymological origin of anarchism is from the Ancient Greek anarkhia, meaning \"without a ruler\", composed of the prefix an- (\"without\") and the word arkhos (\"leader\" or \"ruler\").',\n",
       "  'The suffix -ism denotes the ideological current that favours anarchy.',\n",
       "  'Anarchism appears in English from 1642 as anarchisme and anarchy from 1539; early English usages emphasised a sense of disorder.',\n",
       "  'Various factions within the French Revolution labelled their opponents as anarchists, although few such accused shared many views with later anarchists.',\n",
       "  'Many revolutionaries of the 19th century such as William Godwin (1756–1836) and Wilhelm Weitling (1808–1871) would contribute to the anarchist doctrines of the next generation but did not use anarchist or anarchism in describing themselves or their beliefs.'],\n",
       " ['The first political philosopher to call himself an anarchist () was Pierre-Joseph Proudhon (1809–1865), marking the formal birth of anarchism in the mid-19th century.',\n",
       "  'Since the 1890s and beginning in France, libertarianism has often been used as a synonym for anarchism and its use as a synonym is still common outside the United States.',\n",
       "  'Some usages of libertarianism refer to individualistic free-market philosophy only, and free-market anarchism in particular is termed libertarian anarchism.']]"
      ]
     },
     "execution_count": 6,
     "metadata": {},
     "output_type": "execute_result"
    }
   ],
   "source": [
    "# only using paragraps with three or more sentences\n",
    "divided_paragraphs = [pls for pls in divided_paragraphs if len(pls) >= 3]\n",
    "divided_paragraphs[:5]"
   ]
  },
  {
   "cell_type": "markdown",
   "id": "b5ffb6ca-7876-484a-a40f-46ae0e8b2a48",
   "metadata": {},
   "source": [
    "## Prepare dataset of following sentence pairs, and random sentence"
   ]
  },
  {
   "cell_type": "code",
   "execution_count": 7,
   "id": "be2a5a38-a56b-4dfd-a920-06ee6e5004b1",
   "metadata": {
    "tags": []
   },
   "outputs": [],
   "source": [
    "# Prepare dataset of following sentence pairs, and random sentence\n",
    "\n",
    "import random\n",
    "\n",
    "positive_pairs = []\n",
    "negative_pairs = []\n",
    "\n",
    "num_paragraphs = len(divided_paragraphs)\n",
    "\n",
    "for i, paragraph in enumerate(divided_paragraphs):\n",
    "    for j in range(len(paragraph)-1):\n",
    "        positive_pairs.append((paragraph[j], paragraph[j+1]))\n",
    "        rand_par = i\n",
    "        while rand_par == i:\n",
    "            rand_par = random.randint(0, num_paragraphs-1)\n",
    "        rand_sent = random.randint(0, len(divided_paragraphs[rand_par])-1)\n",
    "        negative_pairs.append((paragraph[j], divided_paragraphs[rand_par][rand_sent]))"
   ]
  },
  {
   "cell_type": "code",
   "execution_count": 8,
   "id": "a923ec6f-fd78-4317-ba36-cbe028eff40d",
   "metadata": {
    "tags": []
   },
   "outputs": [
    {
     "data": {
      "text/plain": [
       "[('Anarchism is a political philosophy and movement that is skeptical of all justifications for authority and seeks to abolish the institutions it claims maintain unnecessary coercion and hierarchy, typically including nation-states, and capitalism.',\n",
       "  'Anarchism advocates for the replacement of the state with stateless societies and voluntary free associations.'),\n",
       " ('Anarchism advocates for the replacement of the state with stateless societies and voluntary free associations.',\n",
       "  'As a historically left-wing movement, this reading of anarchism is placed on the farthest left of the political spectrum, usually described as the libertarian wing of the socialist movement (libertarian socialism).')]"
      ]
     },
     "execution_count": 8,
     "metadata": {},
     "output_type": "execute_result"
    }
   ],
   "source": [
    "positive_pairs[:2]"
   ]
  },
  {
   "cell_type": "code",
   "execution_count": 9,
   "id": "e0c75be3-cb7e-4020-b18a-eae4fed384bd",
   "metadata": {
    "tags": []
   },
   "outputs": [
    {
     "data": {
      "text/plain": [
       "[('Anarchism is a political philosophy and movement that is skeptical of all justifications for authority and seeks to abolish the institutions it claims maintain unnecessary coercion and hierarchy, typically including nation-states, and capitalism.',\n",
       "  'Ælfheah was taken prisoner and held captive for seven months.'),\n",
       " ('Anarchism advocates for the replacement of the state with stateless societies and voluntary free associations.',\n",
       "  'There has been a consequential component of Chinese emigration of illegal origin, most notably Fuzhou people from Fujian Province and Wenzhounese from Zhejiang Province in Mainland China, specifically destined to work in Chinese restaurants in New York City, beginning in the 1980s.')]"
      ]
     },
     "execution_count": 9,
     "metadata": {},
     "output_type": "execute_result"
    }
   ],
   "source": [
    "negative_pairs[:2]"
   ]
  },
  {
   "cell_type": "markdown",
   "id": "39deb6ea-c7ee-48ff-85b9-08917f1315d7",
   "metadata": {
    "tags": []
   },
   "source": [
    "## Tokenization"
   ]
  },
  {
   "cell_type": "code",
   "execution_count": 10,
   "id": "935aed27-e6ee-4f02-9f7d-668f1ec6e8c3",
   "metadata": {
    "tags": []
   },
   "outputs": [],
   "source": [
    "# load tokenizer\n",
    "from transformers.models.bert.tokenization_bert_fast import BertTokenizerFast\n",
    "tokenizer = BertTokenizerFast.from_pretrained('google-bert/bert-base-uncased')"
   ]
  },
  {
   "cell_type": "code",
   "execution_count": 11,
   "id": "d69bfd19-5318-4e62-ad6d-75084b08f16d",
   "metadata": {},
   "outputs": [
    {
     "name": "stdout",
     "output_type": "stream",
     "text": [
      "Original Sentence: Here's a weird word: Withoutadoubticus\n",
      "Token IDs: [[101, 2182, 1005, 1055, 1037, 6881, 2773, 1024, 2302, 9365, 12083, 29587, 102]]\n",
      "token values: ['[CLS]', 'here', \"'\", 's', 'a', 'weird', 'word', ':', 'without', '##ado', '##ub', '##ticus', '[SEP]']\n"
     ]
    }
   ],
   "source": [
    "# Trying out tokenizer\n",
    "sentence = \"Here's a weird word: Withoutadoubticus\"\n",
    "print(f\"Original Sentence: {sentence}\")\n",
    "demo_tokens = tokenizer([sentence])\n",
    "print(f\"Token IDs: {demo_tokens['input_ids']}\")\n",
    "tokens = tokenizer.convert_ids_to_tokens(demo_tokens['input_ids'][0])\n",
    "print(f\"token values: {tokens}\")"
   ]
  },
  {
   "cell_type": "code",
   "execution_count": 12,
   "id": "76992592-94c7-4cf0-b360-4c13e09c3778",
   "metadata": {
    "tags": []
   },
   "outputs": [
    {
     "data": {
      "text/plain": [
       "BertTokenizerFast(name_or_path='google-bert/bert-base-uncased', vocab_size=30522, model_max_length=512, is_fast=True, padding_side='right', truncation_side='right', special_tokens={'unk_token': '[UNK]', 'sep_token': '[SEP]', 'pad_token': '[PAD]', 'cls_token': '[CLS]', 'mask_token': '[MASK]'}, clean_up_tokenization_spaces=False, added_tokens_decoder={\n",
       "\t0: AddedToken(\"[PAD]\", rstrip=False, lstrip=False, single_word=False, normalized=False, special=True),\n",
       "\t100: AddedToken(\"[UNK]\", rstrip=False, lstrip=False, single_word=False, normalized=False, special=True),\n",
       "\t101: AddedToken(\"[CLS]\", rstrip=False, lstrip=False, single_word=False, normalized=False, special=True),\n",
       "\t102: AddedToken(\"[SEP]\", rstrip=False, lstrip=False, single_word=False, normalized=False, special=True),\n",
       "\t103: AddedToken(\"[MASK]\", rstrip=False, lstrip=False, single_word=False, normalized=False, special=True),\n",
       "}\n",
       ")"
      ]
     },
     "execution_count": 12,
     "metadata": {},
     "output_type": "execute_result"
    }
   ],
   "source": [
    "tokenizer"
   ]
  },
  {
   "cell_type": "markdown",
   "id": "7b6a53a1-6e01-43cc-9f3f-8d7d712f3ddf",
   "metadata": {},
   "source": [
    "## Define Training Batches"
   ]
  },
  {
   "cell_type": "code",
   "execution_count": 13,
   "id": "643a3217-0364-46ee-8382-02f7a8b968aa",
   "metadata": {
    "tags": []
   },
   "outputs": [],
   "source": [
    "# Import required libraries\n",
    "from tqdm import tqdm\n",
    "import torch\n",
    "from multiprocessing import Pool, cpu_count"
   ]
  },
  {
   "cell_type": "code",
   "execution_count": 14,
   "id": "bd3ac9a5-5964-41c4-8a1e-dad5718998db",
   "metadata": {
    "tags": []
   },
   "outputs": [],
   "source": [
    "# defining the device\n",
    "device = torch.device('cuda' if torch.cuda.is_available() else 'cpu')\n",
    "\n",
    "# number of examples in the batch\n",
    "batch_size = 128 #should be divisible by 2\n",
    "max_input_length = 64 # sequence lenght of model"
   ]
  },
  {
   "cell_type": "code",
   "execution_count": 15,
   "id": "2546416a-2dff-4b39-bb7f-26c8649ebb26",
   "metadata": {
    "tags": []
   },
   "outputs": [
    {
     "data": {
      "text/plain": [
       "device(type='cpu')"
      ]
     },
     "execution_count": 15,
     "metadata": {},
     "output_type": "execute_result"
    }
   ],
   "source": [
    "device"
   ]
  },
  {
   "cell_type": "code",
   "execution_count": 16,
   "id": "f8252a0e-4c53-4db0-9657-9915c1bda66c",
   "metadata": {},
   "outputs": [],
   "source": [
    "def process_batch(batch_index):\n",
    "    # bounds of the batch\n",
    "    start_index = batch_index * batch_size\n",
    "    end_index = start_index + batch_size\n",
    "    \n",
    "    if end_index > len(positive_pairs):\n",
    "        return None, None, None\n",
    "    \n",
    "    # Get the sentence pairs of the batch and their labels\n",
    "    sentence_pairs = []\n",
    "    is_positives = []\n",
    "    \n",
    "    # Creating positive pairs\n",
    "    sentence_pairs.extend(positive_pairs[start_index:start_index + int(batch_size/2)])\n",
    "    is_positives.extend([1] * int(batch_size/2))\n",
    "    \n",
    "    sentence_pairs.extend(negative_pairs[start_index:start_index + int(batch_size/2)])\n",
    "    is_positives.extend([0] * int(batch_size/2))\n",
    "    \n",
    "    # Defining the output\n",
    "    # In output we need:\n",
    "    # - The tokens for sequence in a batch\n",
    "    # - Positioning encoding: to know which sentence it belongs\n",
    "    # - If the examples in batch are positive or negative\n",
    "    \n",
    "    batch_sentence_location_tokens = []\n",
    "    batch_sequence_tokens = []\n",
    "    \n",
    "    # Tokenizing pairs\n",
    "    for sentence_pair in sentence_pairs:\n",
    "        sentence1 = sentence_pair[0]\n",
    "        sentence2 = sentence_pair[1]\n",
    "        \n",
    "        # Tokenzing both sentences\n",
    "        tokens = tokenizer([sentence1, sentence2])\n",
    "        sentence1_tokens = tokens['input_ids'][0]\n",
    "        sentence2_tokens = tokens['input_ids'][1]\n",
    "        \n",
    "        # Trimming the tokens\n",
    "        if len(sentence1_tokens) + len(sentence2_tokens) > max_input_length:\n",
    "            sentence1_tokens = [101] + sentence1_tokens[-int(max_input_length / 2) + 1:] # 101-> CLS token\n",
    "            sentence2_tokens = sentence2_tokens[:int(max_input_length / 2) - 1] + [102] # 102 -> SEP token\n",
    "            \n",
    "        # creating sentence tokens\n",
    "        sentence_tokens = [0] * len(sentence1_tokens) + [1] * len(sentence2_tokens)\n",
    "\n",
    "        # combining and padding\n",
    "        pad_num = max_input_length - len(sentence_tokens)\n",
    "        sequence_tokens = sentence1_tokens + sentence2_tokens + [0] * pad_num\n",
    "        sentence_location_tokens = sentence_tokens + [1] * pad_num\n",
    "\n",
    "        # Adding to batch\n",
    "        batch_sequence_tokens.append(sequence_tokens)\n",
    "        batch_sentence_location_tokens.append(sentence_location_tokens)\n",
    "            \n",
    "    return torch.tensor(batch_sentence_location_tokens), torch.tensor(batch_sequence_tokens), torch.tensor(is_positives)\n",
    "    "
   ]
  },
  {
   "cell_type": "code",
   "execution_count": 17,
   "id": "c327f3fc-be4c-4062-a9be-cefb945d1efd",
   "metadata": {
    "tags": []
   },
   "outputs": [
    {
     "name": "stderr",
     "output_type": "stream",
     "text": [
      "huggingface/tokenizers: The current process just got forked, after parallelism has already been used. Disabling parallelism to avoid deadlocks...\n",
      "To disable this warning, you can either:\n",
      "\t- Avoid using `tokenizers` before the fork if possible\n",
      "\t- Explicitly set the environment variable TOKENIZERS_PARALLELISM=(true | false)\n",
      "huggingface/tokenizers: The current process just got forked, after parallelism has already been used. Disabling parallelism to avoid deadlocks...\n",
      "To disable this warning, you can either:\n",
      "\t- Avoid using `tokenizers` before the fork if possible\n",
      "\t- Explicitly set the environment variable TOKENIZERS_PARALLELISM=(true | false)\n",
      "huggingface/tokenizers: The current process just got forked, after parallelism has already been used. Disabling parallelism to avoid deadlocks...\n",
      "To disable this warning, you can either:\n",
      "\t- Avoid using `tokenizers` before the fork if possible\n",
      "\t- Explicitly set the environment variable TOKENIZERS_PARALLELISM=(true | false)\n",
      "huggingface/tokenizers: The current process just got forked, after parallelism has already been used. Disabling parallelism to avoid deadlocks...\n",
      "To disable this warning, you can either:\n",
      "\t- Avoid using `tokenizers` before the fork if possible\n",
      "\t- Explicitly set the environment variable TOKENIZERS_PARALLELISM=(true | false)\n",
      "100%|██████████| 744/744 [00:14<00:00, 50.36it/s]\n"
     ]
    }
   ],
   "source": [
    "# Determine the number of batches\n",
    "num_batches = len(positive_pairs) // batch_size\n",
    "\n",
    "# Use pool of workers equal to the number of CPU cores\n",
    "with Pool(processes=cpu_count()) as pool:\n",
    "    results = list(tqdm(pool.imap(process_batch, range(num_batches)), total=num_batches))\n",
    "    \n",
    "# Filter out None results from the process_batch function\n",
    "results = [result for result in results if result[0] is not None]\n",
    "\n",
    "# Unpack results into batches\n",
    "sentence_location_batches, sequence_tokens_batches, is_positive_batches = zip(*results)\n",
    "\n",
    "# Stack tokens into final batches\n",
    "sentence_location_batches = torch.stack(sentence_location_batches).to(device)\n",
    "sequence_tokens_batches = torch.stack(sequence_tokens_batches).to(device)\n",
    "is_positive_batches = torch.stack(is_positive_batches).to(device)"
   ]
  },
  {
   "cell_type": "markdown",
   "id": "45576b80-30c3-4069-b5c2-2d1720086b70",
   "metadata": {},
   "source": [
    "## Masking"
   ]
  },
  {
   "cell_type": "code",
   "execution_count": 18,
   "id": "6085910f-aa26-4c4e-a3fc-5ed151dcece9",
   "metadata": {},
   "outputs": [],
   "source": [
    "# List vocab for random token masking\n",
    "vocab = tokenizer.get_vocab()\n",
    "valid_token_ids = list(vocab.values())"
   ]
  },
  {
   "cell_type": "code",
   "execution_count": 19,
   "id": "f890678e-6404-4cf7-98b2-d8533fc9f4b2",
   "metadata": {
    "tags": []
   },
   "outputs": [],
   "source": [
    "def mask_batch(batch_tokens, clone=True):\n",
    "    if clone:\n",
    "        batch_tokens = torch.clone(batch_tokens)\n",
    "    \n",
    "    replace_percentage = 0.15\n",
    "    \n",
    "    # Special tokens not to be removed\n",
    "    exclude_tokens = {0, 100, 101, 102, 103}\n",
    "    \n",
    "    # Create a mask to identify tokens that are eligible for replacement\n",
    "    eligible_mask = ~torch.isin(batch_tokens, torch.tensor(list(exclude_tokens)))\n",
    "    \n",
    "    # Count the number of eligible tokens\n",
    "    num_eligible_tokens = eligible_mask.sum().item()\n",
    "    \n",
    "    # Calculate the number of tokens to potentially mask\n",
    "    num_tokens_to_mask = int(num_eligible_tokens * replace_percentage)\n",
    "    \n",
    "    # Create a random permutation of eligible token indices\n",
    "    eligible_indices = eligible_mask.nonzero(as_tuple = True)\n",
    "    random_indices = torch.randperm(num_eligible_tokens)[:num_tokens_to_mask]\n",
    "    \n",
    "    # Probability distribution for replacement\n",
    "    replacement_probs = torch.tensor([0.8, 0.1, 0.1]) # [mask, original, random]\n",
    "    replacement_choices = torch.multinomial(replacement_probs, num_tokens_to_mask, replacement = True)\n",
    "    \n",
    "    # Vector to store if token was masked (0: not masked, 1: masked)\n",
    "    masked_indicator = torch.zeros_like(batch_tokens, dtype=torch.int32)\n",
    "    \n",
    "    # Apply replacement on sampled choices\n",
    "    for i, idx in enumerate(random_indices):\n",
    "        row = eligible_indices[0][idx]\n",
    "        col = eligible_indices[1][idx]\n",
    "        \n",
    "        # replacing with [MASK]\n",
    "        if replacement_choices[i] == 0:\n",
    "            batch_tokens[row, col] = 103\n",
    "            masked_indicator[row, col] = 1\n",
    "        # replacing with random token\n",
    "        elif replacement_choices[i] == 1:\n",
    "            batch_tokens[row, col] = random.choice(valid_token_ids)\n",
    "            masked_indicator[row, col] = 1\n",
    "        # not replacing\n",
    "        elif replacement_choices[i] == 2:\n",
    "            masked_indicator[row, col] = 1\n",
    "    return batch_tokens, masked_indicator\n",
    "        "
   ]
  },
  {
   "cell_type": "code",
   "execution_count": 20,
   "id": "1bf555b5-5f8e-4097-897b-b768c2a02645",
   "metadata": {
    "tags": []
   },
   "outputs": [],
   "source": [
    "batch_tokens, masked_indicator = mask_batch(sequence_tokens_batches[0])"
   ]
  },
  {
   "cell_type": "code",
   "execution_count": 21,
   "id": "1afd07eb-7c0d-4e9b-9bce-754d3656fdea",
   "metadata": {
    "tags": []
   },
   "outputs": [
    {
     "data": {
      "text/plain": [
       "tensor([[  101,  2015,  2005,  ...,     0,     0,     0],\n",
       "        [  101,  9617, 11140,  ...,  1007,  1012,   102],\n",
       "        [  101,  4286,  2031,  ...,     0,     0,     0],\n",
       "        ...,\n",
       "        [  101,   103, 13193,  ...,     0,     0,     0],\n",
       "        [  101,  2011,  1996,  ...,     0,     0,     0],\n",
       "        [  101,   101,  1996,  ...,  2002,  3062,   102]])"
      ]
     },
     "execution_count": 21,
     "metadata": {},
     "output_type": "execute_result"
    }
   ],
   "source": [
    "batch_tokens"
   ]
  },
  {
   "cell_type": "code",
   "execution_count": 22,
   "id": "14073b78-1a5b-482b-9048-f7e2b3acd97b",
   "metadata": {
    "tags": []
   },
   "outputs": [
    {
     "data": {
      "text/plain": [
       "tensor([[0, 0, 0,  ..., 0, 0, 0],\n",
       "        [0, 0, 0,  ..., 0, 0, 0],\n",
       "        [0, 0, 0,  ..., 0, 0, 0],\n",
       "        ...,\n",
       "        [0, 1, 0,  ..., 0, 0, 0],\n",
       "        [0, 0, 0,  ..., 0, 0, 0],\n",
       "        [0, 0, 0,  ..., 0, 0, 0]], dtype=torch.int32)"
      ]
     },
     "execution_count": 22,
     "metadata": {},
     "output_type": "execute_result"
    }
   ],
   "source": [
    "masked_indicator"
   ]
  },
  {
   "cell_type": "markdown",
   "id": "5e0d9774-2656-446e-8eed-456897bb9cf7",
   "metadata": {},
   "source": [
    "## Embedding\n",
    "\n",
    "converting these tokens (which are integers) into high dimensional vector (embedding)"
   ]
  },
  {
   "cell_type": "code",
   "execution_count": 23,
   "id": "29019b56-141e-4da4-9ae5-a75fb57e86c6",
   "metadata": {
    "tags": []
   },
   "outputs": [],
   "source": [
    "import torch.nn as nn\n",
    "import torch"
   ]
  },
  {
   "cell_type": "code",
   "execution_count": 24,
   "id": "ecb775df-c126-42d6-b9a3-1a8961b92038",
   "metadata": {
    "tags": []
   },
   "outputs": [],
   "source": [
    "vocab_size = tokenizer.vocab_size\n",
    "d_model = 256 # represneting the words with 256 dimension vector\n",
    "n_segments = 2 # there are 2 segments"
   ]
  },
  {
   "cell_type": "code",
   "execution_count": 25,
   "id": "63b9888b-270a-4ad1-9d31-8876b65f0af6",
   "metadata": {
    "tags": []
   },
   "outputs": [],
   "source": [
    "class Embedding(nn.Module):\n",
    "    def __init__(self):\n",
    "        super(Embedding, self).__init__()\n",
    "        self.tok_embed = nn.Embedding(vocab_size, d_model) # token embedding\n",
    "        self.pos_embed = nn.Embedding(max_input_length, d_model) # positional embedding\n",
    "        self.seg_embed = nn.Embedding(n_segments, d_model) # segment (token type) embedding\n",
    "        self.norm = nn.LayerNorm(d_model)\n",
    "    \n",
    "    def forward(self, x, seg):\n",
    "        seq_len = x.size(1)\n",
    "        pos = torch.arange(seq_len, dtype=torch.long).to(device)\n",
    "        pos = pos.unsqueeze(0).expand_as(x) # seq_len -> (batch_size, seq_len)\n",
    "        embedding = self.tok_embed(x) + self.pos_embed(pos) + self.seg_embed(seg)\n",
    "        return self.norm(embedding)"
   ]
  },
  {
   "cell_type": "code",
   "execution_count": 26,
   "id": "c5e27e59-f63c-49c4-bc45-b9c1100286c8",
   "metadata": {
    "tags": []
   },
   "outputs": [
    {
     "data": {
      "text/plain": [
       "Embedding(\n",
       "  (tok_embed): Embedding(30522, 256)\n",
       "  (pos_embed): Embedding(64, 256)\n",
       "  (seg_embed): Embedding(2, 256)\n",
       "  (norm): LayerNorm((256,), eps=1e-05, elementwise_affine=True)\n",
       ")"
      ]
     },
     "execution_count": 26,
     "metadata": {},
     "output_type": "execute_result"
    }
   ],
   "source": [
    "e = Embedding()\n",
    "e.to(device)"
   ]
  },
  {
   "cell_type": "code",
   "execution_count": 27,
   "id": "af24cbdd-2a48-432e-b712-b0b054a14ec4",
   "metadata": {
    "tags": []
   },
   "outputs": [
    {
     "name": "stdout",
     "output_type": "stream",
     "text": [
      "torch.Size([128, 64, 256])\n",
      "tensor([[[ 3.7084e-01,  6.2293e-01,  4.2563e-01,  ..., -8.1008e-01,\n",
      "          -1.2871e+00, -3.7748e-01],\n",
      "         [-1.8087e+00, -3.9436e-01,  1.6049e+00,  ..., -2.4710e-02,\n",
      "          -3.0526e-01,  1.0582e-02],\n",
      "         [ 1.0827e+00, -1.1021e+00,  1.2605e+00,  ..., -3.0210e-01,\n",
      "          -7.2230e-01,  4.3753e-01],\n",
      "         ...,\n",
      "         [ 7.5792e-01, -3.0871e-02, -4.0939e-01,  ...,  8.1252e-01,\n",
      "          -1.3524e+00, -8.2331e-01],\n",
      "         [ 1.1915e-01,  1.5688e-01,  5.6939e-01,  ...,  1.8274e+00,\n",
      "          -9.2547e-01, -7.9873e-01],\n",
      "         [ 2.7542e-02, -7.2319e-01, -9.3103e-02,  ...,  7.8663e-01,\n",
      "          -4.2692e-01, -1.8711e+00]],\n",
      "\n",
      "        [[ 3.7084e-01,  6.2293e-01,  4.2563e-01,  ..., -8.1008e-01,\n",
      "          -1.2871e+00, -3.7748e-01],\n",
      "         [-8.7655e-01, -4.3041e-02,  1.6590e+00,  ...,  1.2388e-02,\n",
      "           6.7928e-01, -7.4830e-01],\n",
      "         [ 1.5005e+00, -1.2057e+00,  3.8033e-01,  ...,  1.8176e-01,\n",
      "          -8.3607e-01, -7.6114e-01],\n",
      "         ...,\n",
      "         [-3.4241e-01,  4.1618e-01, -7.7563e-01,  ...,  3.0713e-01,\n",
      "          -5.6592e-01, -5.6567e-01],\n",
      "         [-7.3176e-01, -4.1758e-01,  2.1402e+00,  ...,  8.6755e-01,\n",
      "          -1.8018e-01, -1.4205e+00],\n",
      "         [-6.0523e-01, -7.4734e-02,  1.1284e-01,  ..., -3.2569e-01,\n",
      "           1.0898e-01, -1.9870e+00]],\n",
      "\n",
      "        [[ 3.7084e-01,  6.2293e-01,  4.2563e-01,  ..., -8.1008e-01,\n",
      "          -1.2871e+00, -3.7748e-01],\n",
      "         [-1.7981e+00, -3.8791e-01,  1.9252e+00,  ...,  7.0705e-01,\n",
      "          -9.2777e-01, -2.7767e-01],\n",
      "         [ 1.0116e+00,  6.9798e-01,  1.1867e+00,  ..., -4.6015e-02,\n",
      "          -1.1539e+00, -7.3292e-01],\n",
      "         ...,\n",
      "         [ 7.5792e-01, -3.0871e-02, -4.0939e-01,  ...,  8.1252e-01,\n",
      "          -1.3524e+00, -8.2331e-01],\n",
      "         [ 1.1915e-01,  1.5688e-01,  5.6939e-01,  ...,  1.8274e+00,\n",
      "          -9.2547e-01, -7.9873e-01],\n",
      "         [ 2.7542e-02, -7.2319e-01, -9.3103e-02,  ...,  7.8663e-01,\n",
      "          -4.2692e-01, -1.8711e+00]],\n",
      "\n",
      "        ...,\n",
      "\n",
      "        [[ 3.7084e-01,  6.2293e-01,  4.2563e-01,  ..., -8.1008e-01,\n",
      "          -1.2871e+00, -3.7748e-01],\n",
      "         [-4.8607e-01, -7.9420e-01,  1.6069e+00,  ...,  4.4378e-01,\n",
      "          -4.7055e-01, -1.2276e+00],\n",
      "         [ 1.5587e-01,  4.7742e-03,  2.4535e+00,  ...,  9.9789e-01,\n",
      "          -1.1017e+00,  1.7114e-01],\n",
      "         ...,\n",
      "         [ 7.5792e-01, -3.0871e-02, -4.0939e-01,  ...,  8.1252e-01,\n",
      "          -1.3524e+00, -8.2331e-01],\n",
      "         [ 1.1915e-01,  1.5688e-01,  5.6939e-01,  ...,  1.8274e+00,\n",
      "          -9.2547e-01, -7.9873e-01],\n",
      "         [ 2.7542e-02, -7.2319e-01, -9.3103e-02,  ...,  7.8663e-01,\n",
      "          -4.2692e-01, -1.8711e+00]],\n",
      "\n",
      "        [[ 3.7084e-01,  6.2293e-01,  4.2563e-01,  ..., -8.1008e-01,\n",
      "          -1.2871e+00, -3.7748e-01],\n",
      "         [-1.2224e+00, -1.8789e-01,  1.0752e+00,  ...,  6.3323e-01,\n",
      "           8.4977e-01,  5.4466e-01],\n",
      "         [ 1.7132e+00, -8.3286e-01,  1.2174e+00,  ..., -5.1470e-01,\n",
      "          -7.5799e-02, -1.9008e-01],\n",
      "         ...,\n",
      "         [ 7.5792e-01, -3.0871e-02, -4.0939e-01,  ...,  8.1252e-01,\n",
      "          -1.3524e+00, -8.2331e-01],\n",
      "         [ 1.1915e-01,  1.5688e-01,  5.6939e-01,  ...,  1.8274e+00,\n",
      "          -9.2547e-01, -7.9873e-01],\n",
      "         [ 2.7542e-02, -7.2319e-01, -9.3103e-02,  ...,  7.8663e-01,\n",
      "          -4.2692e-01, -1.8711e+00]],\n",
      "\n",
      "        [[ 3.7084e-01,  6.2293e-01,  4.2563e-01,  ..., -8.1008e-01,\n",
      "          -1.2871e+00, -3.7748e-01],\n",
      "         [-1.7258e+00,  2.6887e-01,  8.8503e-01,  ...,  1.5617e-01,\n",
      "          -7.9581e-01, -4.1275e-01],\n",
      "         [ 1.7132e+00, -8.3286e-01,  1.2174e+00,  ..., -5.1470e-01,\n",
      "          -7.5799e-02, -1.9008e-01],\n",
      "         ...,\n",
      "         [ 1.1650e+00,  8.0974e-01, -1.4681e+00,  ..., -7.0400e-04,\n",
      "          -9.5158e-01, -1.6040e-01],\n",
      "         [-6.5703e-01,  7.8350e-01,  8.4589e-01,  ...,  1.2080e+00,\n",
      "           9.8050e-02, -1.3819e+00],\n",
      "         [-6.0523e-01, -7.4734e-02,  1.1284e-01,  ..., -3.2569e-01,\n",
      "           1.0898e-01, -1.9870e+00]]], grad_fn=<NativeLayerNormBackward0>)\n"
     ]
    }
   ],
   "source": [
    "dummy_embedding = e(sequence_tokens_batches[0], sentence_location_batches[0])\n",
    "print(dummy_embedding.shape)\n",
    "print(dummy_embedding)"
   ]
  },
  {
   "cell_type": "markdown",
   "id": "5a03afbf-85f7-4a02-80be-ece266b98c45",
   "metadata": {},
   "source": [
    "## Multi-Headed Self Attention\n",
    "\n",
    "### Single attention head"
   ]
  },
  {
   "cell_type": "code",
   "execution_count": 28,
   "id": "ac119697-f71f-4e7b-bf53-ae53e3449c55",
   "metadata": {
    "tags": []
   },
   "outputs": [],
   "source": [
    "import numpy as np"
   ]
  },
  {
   "cell_type": "code",
   "execution_count": 29,
   "id": "5f06c5b1-3fb7-4ff8-a137-af9badb3bf07",
   "metadata": {
    "tags": []
   },
   "outputs": [],
   "source": [
    "class ScaledDotProductAttention(nn.Module):\n",
    "    def __init__(self):\n",
    "        super(ScaledDotProductAttention, self).__init__()\n",
    "    \n",
    "    def forward(self, Q, K, V):\n",
    "        # Q, K, V of size (batch x sequence_lenght x dim)\n",
    "        scores = torch.matmul(Q,K.transpose(-1,-2)) / np.sqrt(Q.shape[1])\n",
    "        attn = nn.Softmax(dim=1)(scores)\n",
    "        context = torch.matmul(attn, V)\n",
    "        return context, attn\n",
    "        "
   ]
  },
  {
   "cell_type": "code",
   "execution_count": 30,
   "id": "75ff94ea-493b-4013-ae10-d9ed1a5a1e20",
   "metadata": {
    "tags": []
   },
   "outputs": [
    {
     "data": {
      "text/plain": [
       "(tensor([[[1.2951, 1.3503],\n",
       "          [0.7049, 0.7497]]]),\n",
       " tensor([[[0.6179, 0.6837],\n",
       "          [0.3821, 0.3163]]]))"
      ]
     },
     "execution_count": 30,
     "metadata": {},
     "output_type": "execute_result"
    }
   ],
   "source": [
    "# sanity check\n",
    "q = torch.tensor([[[1.1, 1.3], [0.9, 0.8]]]).to(device)\n",
    "k = torch.tensor([[[0.9, 1], [0.2, 2.1]]]).to(device)\n",
    "v = torch.tensor([[[1.1, 1.3], [0.9, 0.8]]]).to(device)\n",
    "\n",
    "sample = ScaledDotProductAttention().to(device)\n",
    "sample(q, k, v)"
   ]
  },
  {
   "cell_type": "markdown",
   "id": "689bece1-11b8-4e2b-b3ac-54f0c3d94b8f",
   "metadata": {},
   "source": [
    "### Understanding the shape transformations"
   ]
  },
  {
   "cell_type": "code",
   "execution_count": 31,
   "id": "899bccad-2097-4fb6-a038-45212c5bef8c",
   "metadata": {
    "tags": []
   },
   "outputs": [
    {
     "data": {
      "text/plain": [
       "tensor([[[ 0,  1,  2,  3],\n",
       "         [ 4,  5,  6,  7]],\n",
       "\n",
       "        [[ 0, -1, -2, -3],\n",
       "         [-4, -5, -6, -7]]])"
      ]
     },
     "execution_count": 31,
     "metadata": {},
     "output_type": "execute_result"
    }
   ],
   "source": [
    "# Defining the sample value matrix\n",
    "# [batch_size x sequence_len x (query_key_dims * n_heads)]\n",
    "# in this matrix, [0,1,2,3] represents the values for 2 heads across single word\n",
    "sample_val = torch.tensor([[[0,1,2,3],[4,5,6,7]],[[0,-1,-2,-3],[-4,-5,-6,-7]]])\n",
    "sample_val"
   ]
  },
  {
   "cell_type": "code",
   "execution_count": 32,
   "id": "ebe71019-d314-414f-a453-f0bbb84f5282",
   "metadata": {
    "tags": []
   },
   "outputs": [
    {
     "data": {
      "text/plain": [
       "tensor([[[[ 0,  1],\n",
       "          [ 2,  3]],\n",
       "\n",
       "         [[ 4,  5],\n",
       "          [ 6,  7]]],\n",
       "\n",
       "\n",
       "        [[[ 0, -1],\n",
       "          [-2, -3]],\n",
       "\n",
       "         [[-4, -5],\n",
       "          [-6, -7]]]])"
      ]
     },
     "execution_count": 32,
     "metadata": {},
     "output_type": "execute_result"
    }
   ],
   "source": [
    "# dividing into two heads\n",
    "# [batch_size x sequence_len x query_key_dim x n_heads]\n",
    "sample_val = sample_val.view(2,2,2,2)\n",
    "sample_val"
   ]
  },
  {
   "cell_type": "code",
   "execution_count": 33,
   "id": "a54fa4af-6632-4b57-8ca4-2af275de978f",
   "metadata": {
    "tags": []
   },
   "outputs": [
    {
     "data": {
      "text/plain": [
       "tensor([[[ 0,  1],\n",
       "         [ 2,  3]],\n",
       "\n",
       "        [[ 4,  5],\n",
       "         [ 6,  7]],\n",
       "\n",
       "        [[ 0, -1],\n",
       "         [-2, -3]],\n",
       "\n",
       "        [[-4, -5],\n",
       "         [-6, -7]]])"
      ]
     },
     "execution_count": 33,
     "metadata": {},
     "output_type": "execute_result"
    }
   ],
   "source": [
    "# moving the head dimention next to the batch dimension\n",
    "# [batch_size x n_heads x sequence_len x query_key_dim]\n",
    "sample_val = sample_val.reshape(-1, 2, 2)\n",
    "sample_val"
   ]
  },
  {
   "cell_type": "code",
   "execution_count": 34,
   "id": "90728dbc-1b62-42db-9bc2-6956f1dd4c72",
   "metadata": {
    "tags": []
   },
   "outputs": [
    {
     "data": {
      "text/plain": [
       "tensor([[[[ 0,  1],\n",
       "          [ 2,  3]],\n",
       "\n",
       "         [[ 4,  5],\n",
       "          [ 6,  7]]],\n",
       "\n",
       "\n",
       "        [[[ 0, -1],\n",
       "          [-2, -3]],\n",
       "\n",
       "         [[-4, -5],\n",
       "          [-6, -7]]]])"
      ]
     },
     "execution_count": 34,
     "metadata": {},
     "output_type": "execute_result"
    }
   ],
   "source": [
    "# that would be the input into MHSA, which would give back the same ouptput\n",
    "# now we want to unpack the MHSA back into the original shape\n",
    "# [batch_size x sequence_len x (query_key_dim * n_heads)]\n",
    "# if we do this right, the values should be exactly identical\n",
    "\n",
    "# Seperating heads\n",
    "# [batch_size x n_heads x sequence_len x query_key_dim]\n",
    "sample_val = sample_val.reshape(2, 2, 2, 2)\n",
    "sample_val"
   ]
  },
  {
   "cell_type": "code",
   "execution_count": 35,
   "id": "469b72fa-fe86-4e66-8c42-74f14eb36278",
   "metadata": {
    "tags": []
   },
   "outputs": [
    {
     "data": {
      "text/plain": [
       "tensor([[[[ 0,  4],\n",
       "          [ 1,  5]],\n",
       "\n",
       "         [[ 2,  6],\n",
       "          [ 3,  7]]],\n",
       "\n",
       "\n",
       "        [[[ 0, -4],\n",
       "          [-1, -5]],\n",
       "\n",
       "         [[-2, -6],\n",
       "          [-3, -7]]]])"
      ]
     },
     "execution_count": 35,
     "metadata": {},
     "output_type": "execute_result"
    }
   ],
   "source": [
    "# moving the head dimension to the end\n",
    "# [batch_size x sequence_len x query_key_dim x n_heads]\n",
    "sample_val = sample_val.permute(0, 2, 3, 1)\n",
    "sample_val"
   ]
  },
  {
   "cell_type": "code",
   "execution_count": 36,
   "id": "9d2eafe7-3dad-4839-91bb-876779b06a9c",
   "metadata": {
    "tags": []
   },
   "outputs": [
    {
     "data": {
      "text/plain": [
       "tensor([[[ 0,  4,  1,  5],\n",
       "         [ 2,  6,  3,  7]],\n",
       "\n",
       "        [[ 0, -4, -1, -5],\n",
       "         [-2, -6, -3, -7]]])"
      ]
     },
     "execution_count": 36,
     "metadata": {},
     "output_type": "execute_result"
    }
   ],
   "source": [
    "# combining the last dim to effectively concatinate the result of the heads\n",
    "# [batch_size x sequence_len x query_key_dim*n_heads]\n",
    "sample_val = sample_val.reshape(2, 2, -1)\n",
    "sample_val"
   ]
  },
  {
   "cell_type": "code",
   "execution_count": 37,
   "id": "ffa96317-0030-4c1e-8714-a2d2786ce597",
   "metadata": {
    "tags": []
   },
   "outputs": [],
   "source": [
    "import matplotlib.pyplot as plt"
   ]
  },
  {
   "cell_type": "code",
   "execution_count": 38,
   "id": "e6cff42f-c594-4afb-80a4-dddf53d42a19",
   "metadata": {
    "tags": []
   },
   "outputs": [
    {
     "data": {
      "image/png": "[encoded data removed]",
      "text/plain": [
       "<Figure size 1200x800 with 1 Axes>"
      ]
     },
     "metadata": {},
     "output_type": "display_data"
    }
   ],
   "source": [
    "# Define the shapes at each step\n",
    "shapes = [\n",
    "    (2, 2, 4),  # Original shape\n",
    "    (2, 2, 2, 2),  # Split into heads\n",
    "    (2, 2, 2, 2),  # Move head dimension\n",
    "    (4, 2, 2),  # Merge batch and head dimensions\n",
    "    (2, 2, 2, 2),  # Separate heads again\n",
    "    (2, 2, 2, 2),  # Move head dimension to the end\n",
    "    (2, 2, 4)  # Combine last two dimensions\n",
    "]\n",
    "\n",
    "# Define the labels for each step\n",
    "labels = [\n",
    "    \"Original Shape\",#\\n[batch_size, sequence_len, query_key_dim * n_heads]\",\n",
    "    \"Split into Heads\",#\\n[batch_size, sequence_len, query_key_dim, n_heads]\",\n",
    "    \"Move Head Dimension\",#\\n[batch_size, n_heads, sequence_len, query_key_dim]\",\n",
    "    \"Merge Batch and Head Dimensions\",#\\n[batch_size * n_heads, sequence_len, query_key_dim]\",\n",
    "    \"Separate Heads Again\",#\\n[batch_size, n_heads, sequence_len, query_key_dim]\",\n",
    "    \"Move Head Dimension to the End\",#\\n[batch_size, sequence_len, query_key_dim, n_heads]\",\n",
    "    \"Combine Last Two Dimensions\"#\\n[batch_size, sequence_len, query_key_dim * n_heads]\"\n",
    "]\n",
    "\n",
    "# Create the diagram\n",
    "fig, ax = plt.subplots(figsize=(12, 8))\n",
    "\n",
    "# Plot each shape transformation\n",
    "for i, (shape, label) in enumerate(zip(shapes, labels)):\n",
    "    rect = plt.Rectangle((i * 2, 0), 1.5, 1, edgecolor='black', facecolor='lightblue')\n",
    "    ax.add_patch(rect)\n",
    "    ax.text(i * 2 + 0.75, 0.5, str(shape), ha='center', va='center', fontsize=12)\n",
    "    ax.text(i * 2 + 0.75, -0.2, label, ha='center', va='center', fontsize=10)\n",
    "\n",
    "# Draw arrows between shapes\n",
    "for i in range(len(shapes) - 1):\n",
    "    ax.arrow(i * 2 + 1.5, 0.5, 0.5, 0, head_width=0.1, head_length=0.2, fc='black', ec='black')\n",
    "\n",
    "# Set plot limits and remove axes\n",
    "ax.set_xlim(-1, len(shapes) * 2)\n",
    "ax.set_ylim(-1, 2)\n",
    "ax.axis('off')\n",
    "\n",
    "# Show the plot\n",
    "plt.title(\"Shape Transformations in Multi-Head Self-Attention (MHSA) in BERT\", fontsize=14)\n",
    "plt.show()"
   ]
  },
  {
   "cell_type": "markdown",
   "id": "223fd21b-3ca9-4273-a887-842a594d78b0",
   "metadata": {},
   "source": [
    "### Building MHSA"
   ]
  },
  {
   "cell_type": "code",
   "execution_count": 39,
   "id": "3941f30d-c31e-43fd-826f-65b8a1905081",
   "metadata": {
    "tags": []
   },
   "outputs": [],
   "source": [
    "# Define constants\n",
    "n_heads = 3\n",
    "query_key_dim = 64\n",
    "value_dim = 64"
   ]
  },
  {
   "cell_type": "code",
   "execution_count": 40,
   "id": "045353d4-1b7c-429c-b986-c4c4c2e9a7d5",
   "metadata": {
    "tags": []
   },
   "outputs": [],
   "source": [
    "class MultiHeadSelfAttention(nn.Module):\n",
    "    def __init__(self):\n",
    "        super(MultiHeadSelfAttention, self).__init__()\n",
    "        # Defining the linear layers to construct the query, key, value\n",
    "        self.W_Q = nn.Linear(d_model, query_key_dim * n_heads) # Projects input to [batch x sequence x (q/k_dim*num_heads)]\n",
    "        self.W_K = nn.Linear(d_model, query_key_dim * n_heads) # Projects input to [batch x sequence x (q/k_dim*num_heads)]\n",
    "        self.W_V = nn.Linear(d_model, value_dim * n_heads) # Projects input to [batch x sequence x (value_dim*num_heads)]\n",
    "        self.dot_prod_attn = ScaledDotProductAttention()   # Parameterless system to calculate attention\n",
    "        self.proj_back = nn.Linear(value_dim * n_heads, d_model) # Projects final output\n",
    "        \n",
    "    def forward(self, embedding):\n",
    "        # Pass embedding through dense networks\n",
    "        qs = self.W_Q(embedding) # [batch x sequence x (query_key_dim*num_heads)]\n",
    "        ks = self.W_K(embedding) # [batch x sequence x (query_key_dim*num_heads)]        \n",
    "        vs = self.W_V(embedding) # [batch x sequence x (value_dim*num_heads)]\n",
    "        \n",
    "        # dividing ot heads\n",
    "        # [batch_size, sequence_len, q/k/v_dim, n_heads]\n",
    "        qs = qs.view(batch_size, max_input_length, query_key_dim, n_heads)\n",
    "        ks = ks.view(batch_size, max_input_length, query_key_dim, n_heads)        \n",
    "        vs = vs.view(batch_size, max_input_length, value_dim, n_heads)\n",
    "        \n",
    "        # moving the head dimension next to the batch dimension\n",
    "        # [batch_size x n_heads x sequence_len x q/k/v_dim]\n",
    "        qs = qs.permute(0, 3, 1, 2)\n",
    "        ks = ks.permute(0, 3, 1, 2)        \n",
    "        vs = vs.permute(0, 3, 1, 2)\n",
    "        \n",
    "        # Combining batch and head dimension\n",
    "        # [batch_size*n_heads x sequence_len x q/k/v_dim]\n",
    "        qs = qs.reshape(-1, max_input_length, query_key_dim)\n",
    "        ks = ks.reshape(-1, max_input_length, query_key_dim)        \n",
    "        vs = vs.reshape(-1, max_input_length, value_dim)\n",
    "        \n",
    "        # Passing batches/heads of self attention through attn\n",
    "        # [batch_size*n_heads x sequence_len x q/k/v_dim]\n",
    "        head_results, _ = self.dot_prod_attn(qs, ks, vs)\n",
    "        \n",
    "        # Seperating heads\n",
    "        # [batch_size x n_heads x sequence_len x v_dim]\n",
    "        head_results = head_results.reshape(batch_size, n_heads, max_input_length, value_dim)\n",
    "        \n",
    "        # moving the head dimension to the end\n",
    "        # [batch_size x sequence_len x query_key_dim x n_heads]\n",
    "        head_results = head_results.permute(0, 2, 3, 1)\n",
    "        \n",
    "        # combinig the last dim to effectively concatinate the result of the heads\n",
    "        # [batch_size x sequence_len x query_key_dim*n_heads]\n",
    "        head_results = head_results.reshape(batch_size, max_input_length, -1)\n",
    "        \n",
    "        # Projecting result of head back into model dimension\n",
    "        return self.proj_back(head_results)        "
   ]
  },
  {
   "cell_type": "code",
   "execution_count": 41,
   "id": "2aeafbcb-3add-4930-87c4-5f32a10b1dd6",
   "metadata": {
    "tags": []
   },
   "outputs": [
    {
     "name": "stdout",
     "output_type": "stream",
     "text": [
      "Sample embeddings shape: torch.Size([128, 64, 256])\n"
     ]
    }
   ],
   "source": [
    "# Example Usage\n",
    "sample_embeddings = torch.tensor([[[1.1] * d_model] * max_input_length] * batch_size).to(device)\n",
    "print(f'Sample embeddings shape: {sample_embeddings.shape}')"
   ]
  },
  {
   "cell_type": "code",
   "execution_count": 42,
   "id": "4ea7494e-0703-4398-93ea-d1d18aa0186b",
   "metadata": {
    "tags": []
   },
   "outputs": [
    {
     "name": "stdout",
     "output_type": "stream",
     "text": [
      "Output shape of MHSA: torch.Size([128, 64, 256])\n"
     ]
    }
   ],
   "source": [
    "sample = MultiHeadSelfAttention().to(device)\n",
    "output = sample(sample_embeddings)\n",
    "print(f'Output shape of MHSA: {output.shape}')"
   ]
  },
  {
   "cell_type": "markdown",
   "id": "e587342e-bd19-4436-bc4d-fa7d8160dd68",
   "metadata": {},
   "source": [
    "## Pointwise Feed Forward\n",
    "we’re expanding the vectors to four times their length with a neural network, applying a non-linear activation function, then compressing that data back into the original model dimension length "
   ]
  },
  {
   "cell_type": "code",
   "execution_count": 43,
   "id": "49e850f7-8311-4045-a6ac-65d2dfcb2177",
   "metadata": {
    "tags": []
   },
   "outputs": [],
   "source": [
    "d_ff = 4 * d_model"
   ]
  },
  {
   "cell_type": "code",
   "execution_count": 44,
   "id": "97efd2e6-6a53-4fed-9957-25c8ed83b29f",
   "metadata": {
    "tags": []
   },
   "outputs": [],
   "source": [
    "class PointWiseFeedForwardNet(nn.Module):\n",
    "    def __init__(self):\n",
    "        super(PointWiseFeedForwardNet, self).__init__()\n",
    "        self.fc1 = nn.Linear(d_model, d_ff)\n",
    "        self.fc2 = nn.Linear(d_ff, d_model)\n",
    "        \n",
    "    def forward(self, x):\n",
    "        # (batch_size, len_seq, d_model) -> (batch_size, len_seq, d_ff) -> (batch_size, len_seq, d_model)\n",
    "        return self.fc2(torch.nn.functional.gelu(self.fc1(x)))"
   ]
  },
  {
   "cell_type": "markdown",
   "id": "02a64eb3-f365-4eb9-9b06-6df475712f4c",
   "metadata": {},
   "source": [
    "## The Encoder Block"
   ]
  },
  {
   "cell_type": "code",
   "execution_count": 45,
   "id": "0dd2ff58-3a8f-486c-953f-e83ffb8b4406",
   "metadata": {
    "tags": []
   },
   "outputs": [],
   "source": [
    "class EncoderBlock(nn.Module):\n",
    "    def __init__(self):\n",
    "        super(EncoderBlock, self).__init__()\n",
    "        self.mhsa = MultiHeadSelfAttention()\n",
    "        self.pwff = PointWiseFeedForwardNet()\n",
    "        \n",
    "    def forward(self, x):\n",
    "        mhsa_output = self.mhsa(x)\n",
    "        skip1 = mhsa_output + x\n",
    "        pwff_output = self.pwff(skip1)\n",
    "        skip2 = skip1 + pwff_output\n",
    "        return skip2"
   ]
  },
  {
   "cell_type": "markdown",
   "id": "0958d00b-8e1e-4dfc-b9df-c22356f5f21d",
   "metadata": {},
   "source": [
    "## Building BERT"
   ]
  },
  {
   "cell_type": "code",
   "execution_count": 46,
   "id": "0331f7e0-5adc-4ea4-80f5-cf9dd6c9b575",
   "metadata": {
    "tags": []
   },
   "outputs": [],
   "source": [
    "n_layers = 1"
   ]
  },
  {
   "cell_type": "code",
   "execution_count": 47,
   "id": "d5d9c15b-254b-49b4-bbaa-7ce9d356186a",
   "metadata": {
    "tags": []
   },
   "outputs": [],
   "source": [
    "class BERT(nn.Module):\n",
    "    def __init__(self):\n",
    "        super(BERT, self).__init__()\n",
    "        self.embedding = Embedding() # convert tokens into vector embeddings\n",
    "        self.encoder_blocks = nn.ModuleList([EncoderBlock() for _ in range(n_layers)]) # Encoder blocks\n",
    "        # Decoding a word vector into token predictions\n",
    "        self.decoder = nn.Linear(d_model, tokenizer.vocab_size, bias=False)\n",
    "        # Converting first output token into a binary classification\n",
    "        self.classifier = nn.Linear(d_model, 1, bias = False)\n",
    "        \n",
    "    def forward(self, x, seg, masked_token_locations):\n",
    "        # x of shape [batch x seq_len x model_dim]\n",
    "        embeddings = self.embedding(x, seg)\n",
    "        x = embeddings\n",
    "        for block in self.encoder_blocks:\n",
    "            x = block(x)\n",
    "        \n",
    "        # passing first token through classifier\n",
    "        clsf_logits = self.classifier(x[:, 0, :])\n",
    "        \n",
    "        # passing masked tokens through decoder\n",
    "        masked_token_embeddings = embeddings[masked_token_locations.bool()]\n",
    "        token_logits = self.decoder(masked_token_embeddings)\n",
    "        \n",
    "        return clsf_logits, token_logits"
   ]
  },
  {
   "cell_type": "markdown",
   "id": "9fbd799e-59cb-4fcb-8741-99ae2dd8667e",
   "metadata": {},
   "source": [
    "## Pretraining BERT"
   ]
  },
  {
   "cell_type": "code",
   "execution_count": 48,
   "id": "8d348717-6dc9-4204-bf28-f172407e8feb",
   "metadata": {},
   "outputs": [],
   "source": [
    "import torch.optim as optim\n",
    "from tqdm import tqdm"
   ]
  },
  {
   "cell_type": "code",
   "execution_count": 49,
   "id": "0b3b2dec-9155-41a6-86f8-b27579752394",
   "metadata": {
    "tags": []
   },
   "outputs": [],
   "source": [
    "model = BERT().to(device)\n",
    "token_criterion = nn.CrossEntropyLoss() # Expect indices not one-hot vectors\n",
    "classification_criterion = nn.BCEWithLogitsLoss() # For logits directly\n",
    "optimizer = optim.Adam(model.parameters(), lr = 0.001)"
   ]
  },
  {
   "cell_type": "code",
   "execution_count": null,
   "id": "f7068616-684a-4a29-9434-6ee2fe4568e1",
   "metadata": {
    "tags": []
   },
   "outputs": [
    {
     "name": "stderr",
     "output_type": "stream",
     "text": [
      "744it [09:35,  1.29it/s]\n"
     ]
    },
    {
     "name": "stdout",
     "output_type": "stream",
     "text": [
      "=====Epoch 0 Completed\n",
      "average loss in epoch: 8.055456192262712\n"
     ]
    },
    {
     "name": "stderr",
     "output_type": "stream",
     "text": [
      "744it [12:14,  1.01it/s]\n"
     ]
    },
    {
     "name": "stdout",
     "output_type": "stream",
     "text": [
      "=====Epoch 1 Completed\n",
      "average loss in epoch: 7.694260349196773\n"
     ]
    },
    {
     "name": "stderr",
     "output_type": "stream",
     "text": [
      "380it [15:51,  2.65s/it]"
     ]
    }
   ],
   "source": [
    "losses = [[]]\n",
    "\n",
    "for epoch in range(4):\n",
    "    for sequence_batch, location_batch, classtag_batch in tqdm(zip(sequence_tokens_batches, sentence_location_batches, is_positive_batches)):\n",
    "        # Zeroing out gradients from last iteration\n",
    "        optimizer.zero_grad()\n",
    "        \n",
    "        # Masking the tokens in the input sequence\n",
    "        masked_tokens, masked_token_locations = mask_batch(sequence_batch)\n",
    "        \n",
    "        # Generating class and masked token predictions\n",
    "        clsf_logits, token_logits = model(masked_tokens, location_batch, masked_token_locations)\n",
    "        \n",
    "        # Setting up the target for masked token prediction\n",
    "        masked_token_targets = sequence_batch[masked_token_locations.bool()]\n",
    "        \n",
    "        # Calculating loss for the next sentence classification\n",
    "        loss_clsf = classification_criterion(clsf_logits.squeeze(), classtag_batch.float())\n",
    "        \n",
    "        # Calculating the loss for masked language modeling\n",
    "        loss_mlm = token_criterion(token_logits, masked_token_targets)\n",
    "        \n",
    "        # Combining losses\n",
    "        loss = loss_clsf + loss_mlm\n",
    "        \n",
    "        losses[-1].append(float(loss))\n",
    "        \n",
    "        # Backpropagation\n",
    "        loss.backward()\n",
    "        optimizer.step()\n",
    "        \n",
    "    print(f'=====Epoch {epoch} Completed')\n",
    "    print(f'average loss in epoch: {np.mean(losses[-1])}')\n",
    "    losses.append([])"
   ]
  },
  {
   "cell_type": "markdown",
   "id": "bbe8bf16-5d55-4da5-acc1-17e4ee75e488",
   "metadata": {
    "tags": []
   },
   "source": [
    "## Fine Tuning"
   ]
  },
  {
   "cell_type": "code",
   "execution_count": null,
   "id": "2ffc4bc7-972d-4756-baa0-a3cf61b94bc3",
   "metadata": {
    "tags": []
   },
   "outputs": [],
   "source": [
    " # Loading dataset\n",
    "    \n",
    "fine_tune_ds = load_dataset('fancyzhx/amazon_polarity')\n",
    "\n",
    "for e in fine_tune_ds['train']:\n",
    "    print(e)\n",
    "    break"
   ]
  },
  {
   "cell_type": "code",
   "execution_count": null,
   "id": "897100af-56ba-4122-a3b2-54ea7edb638f",
   "metadata": {
    "tags": []
   },
   "outputs": [],
   "source": [
    "# Turning Amazon dataset to BERT friendly dataset\n",
    "\n",
    "def preprocess_data(data, max_num = 100000):\n",
    "    data_tokens = []\n",
    "    data_positional = []\n",
    "    data_targets = []\n",
    "    \n",
    "    # unpacking data\n",
    "    for i, elem in enumerate(data):\n",
    "        # Tokenize title and content\n",
    "        sentence1 = elem['title']\n",
    "        sentence2 = elem['content']\n",
    "        tokens = tokenizer([sentence1, sentence2])\n",
    "        sentence1_tokens = tokens['input_ids'][0]\n",
    "        sentence2_tokens = tokens['input_ids'][1]\n",
    "        \n",
    "        # Trimming down the tokens\n",
    "        if len(sentence1_tokens) + len(sentence2_tokens) > max_input_length:\n",
    "            sentence1_tokens = [101] + sentence1_tokens[-int(max_input_length / 2) + 1:]\n",
    "            sentence2_tokens = sentence2_tokens[:int(max_input_length/2) -1] + [102]\n",
    "\n",
    "        # Creating Sentence tokens\n",
    "        sentence_tokens = [0] * len(sentence1_tokens) + [1] * len(sentence2_tokens)\n",
    "        \n",
    "        # Combining and padding\n",
    "        pad_num = max_input_length - (len(sentence1_tokens) + len(sentence2_tokens))\n",
    "        sequence_tokens = sentence1_tokens + sentence2_tokens + [0] * pad_num\n",
    "        sentence_location_tokens = sentence_tokens + [1] * pad_num\n",
    "        \n",
    "        if not (len(sequence_tokens) == max_input_length and len(sentence_location_tokens) == max_input_length):\n",
    "            print(len(sequence_tokens), len(sentence_location_tokens))\n",
    "            print(sentence1_tokens, sentence2_tokens)\n",
    "        \n",
    "        # Adding to the batch\n",
    "        data_tokens.append(sequence_tokens)\n",
    "        data_positional.append(sentence_location_tokens)\n",
    "        data_targets.append(elem['label'])\n",
    "\n",
    "        if i > max_num: break\n",
    "    \n",
    "    return torch.tensor(data_positional), torch.tensor(data_tokens), torch.tensor(data_targets)\n"
   ]
  },
  {
   "cell_type": "code",
   "execution_count": null,
   "id": "f93026b0-0600-4c39-9a77-67f99240a73f",
   "metadata": {
    "tags": []
   },
   "outputs": [],
   "source": [
    "# processing data into modeling data\n",
    "train_pos, train_tok, train_tar = preprocess_data(fine_tune_ds['train'])\n",
    "test_pos, test_tok, test_tar = preprocess_data(fine_tune_ds['test'])"
   ]
  },
  {
   "cell_type": "code",
   "execution_count": null,
   "id": "26475187-e5fd-4600-87b1-ec3909b25a0e",
   "metadata": {
    "tags": []
   },
   "outputs": [],
   "source": [
    "# Moving training to device\n",
    "train_pos = train_pos.to(device)\n",
    "train_tok = train_tok.to(device)\n",
    "train_tar = train_tar.to(device)\n",
    "\n",
    "# Moving testing to device\n",
    "test_pos = test_pos.to(device)\n",
    "test_tok = test_tok.to(device)\n",
    "test_tar = test_tar.to(device)"
   ]
  },
  {
   "cell_type": "code",
   "execution_count": null,
   "id": "133cb77b-00d8-49e5-a70b-1829f819ddf0",
   "metadata": {
    "tags": []
   },
   "outputs": [],
   "source": [
    "# Replacing the classifier head with new head\n",
    "# Since new problem requires us to classify the review as positive or negative\n",
    "\n",
    "model.classifier = nn.Linear(d_model, 1, bias=False).to(device)\n",
    "\n",
    "# Resetting the optimizer to access the parameter of new head\n",
    "optimizer = optim.Adam(model.parameters(), lr=0.001)"
   ]
  },
  {
   "cell_type": "code",
   "execution_count": null,
   "id": "74882b55-7af7-446d-8040-c0f00351372c",
   "metadata": {
    "tags": []
   },
   "outputs": [
    {
     "name": "stderr",
     "output_type": "stream",
     "text": [
      "100%|█████████▉| 781/782 [13:39<00:01,  1.05s/it]\n"
     ]
    },
    {
     "name": "stdout",
     "output_type": "stream",
     "text": [
      "===== Epoch 3 Completed =====\n",
      "average loss in epoch: 0.691419141126198\n"
     ]
    },
    {
     "name": "stderr",
     "output_type": "stream",
     "text": [
      "100%|█████████▉| 781/782 [13:35<00:01,  1.04s/it]"
     ]
    },
    {
     "name": "stdout",
     "output_type": "stream",
     "text": [
      "===== Epoch 4 Completed =====\n",
      "average loss in epoch: 0.690081260909497\n"
     ]
    },
    {
     "name": "stderr",
     "output_type": "stream",
     "text": [
      "\n"
     ]
    }
   ],
   "source": [
    "ft_losses = [[]*1]\n",
    "\n",
    "for epoch in range(5):\n",
    "    for i in tqdm(range(0, train_pos.shape[0], batch_size)):\n",
    "        \n",
    "        if i + batch_size >= train_pos.shape[0]:\n",
    "            break\n",
    "        \n",
    "        # Get batch\n",
    "        train_pos_batch = train_pos[i:i+batch_size]\n",
    "        train_tok_batch = train_tok[i:i+batch_size]\n",
    "        train_tar_batch = train_tar[i:i+batch_size]\n",
    "        \n",
    "        # Zeroing the gradients from last iteration\n",
    "        optimizer.zero_grad()\n",
    "        \n",
    "        # Masking the tokens in the input sequence\n",
    "        masked_tokens, masked_token_locations = mask_batch(train_tok_batch)\n",
    "        \n",
    "        # Generating class and masked token prediction\n",
    "        clsf_logits, token_logits = model(train_tok_batch, train_pos_batch, masked_token_locations)\n",
    "        \n",
    "        # Setting up target for masked token prediction\n",
    "        masked_token_targets = sequence_batch[masked_token_locations.bool()]\n",
    "        \n",
    "        # Calculating loss for next sentence classification\n",
    "        loss_clsf = classification_criterion(clsf_logits.squeeze(), train_tar_batch.float())\n",
    "        \n",
    "        loss = loss_clsf\n",
    "        ft_losses[-1].append(float(loss))\n",
    "        \n",
    "        loss.backward()\n",
    "        optimizer.step()\n",
    "        \n",
    "    print(f'===== Epoch {epoch} Completed =====')\n",
    "    print(f'average loss in epoch: {np.mean(ft_losses[-1])}')\n",
    "    losses.append([])"
   ]
  },
  {
   "cell_type": "code",
   "execution_count": 59,
   "id": "fa71d28c-e015-47c1-848d-b9eb882a80fd",
   "metadata": {
    "tags": []
   },
   "outputs": [
    {
     "name": "stderr",
     "output_type": "stream",
     "text": [
      "100%|█████████▉| 781/782 [01:18<00:00,  9.95it/s]\n"
     ]
    },
    {
     "data": {
      "text/plain": [
       "np.float64(0.515044814340589)"
      ]
     },
     "execution_count": 59,
     "metadata": {},
     "output_type": "execute_result"
    }
   ],
   "source": [
    "is_correct = []\n",
    "predicted_class = []\n",
    "original_class = []\n",
    "\n",
    "for i in tqdm(range(0, test_pos.shape[0], batch_size)):\n",
    "    if i+batch_size >= test_pos.shape[0]:\n",
    "        break\n",
    "    \n",
    "    # Getting batch\n",
    "    test_pos_batch = test_pos[i:i+batch_size]\n",
    "    test_tok_batch = test_tok[i:i+batch_size]    \n",
    "    test_tar_batch = test_tar[i:i+batch_size]\n",
    "    \n",
    "    # Making prediction\n",
    "    clsf_logits, _ = model(test_tok_batch, test_pos_batch, torch.zeros(test_pos_batch.shape))\n",
    "    \n",
    "    # Converting logits to probability\n",
    "    res = torch.sigmoid(clsf_logits).round().squeeze()\n",
    "    \n",
    "    # Keep track of the original class\n",
    "    original_class.extend(np.array(test_tar_batch.to('cpu')))\n",
    "    is_correct.extend(np.array((res == test_tar_batch).to('cpu')))\n",
    "    predicted_class.extend(np.array(res.detach().to('cpu')))\n",
    "    \n",
    "# Accuracy\n",
    "sum(list(is_correct))/len(is_correct)"
   ]
  },
  {
   "cell_type": "code",
   "execution_count": null,
   "id": "4bfdb610-40e9-474f-9608-16db901e203f",
   "metadata": {},
   "outputs": [],
   "source": []
  }
 ],
 "metadata": {
  "kernelspec": {
   "display_name": ".conda-default:Python",
   "language": "python",
   "name": "conda-env-.conda-default-py"
  },
  "language_info": {
   "codemirror_mode": {
    "name": "ipython",
    "version": 3
   },
   "file_extension": ".py",
   "mimetype": "text/x-python",
   "name": "python",
   "nbconvert_exporter": "python",
   "pygments_lexer": "ipython3",
   "version": "3.9.19"
  }
 },
 "nbformat": 4,
 "nbformat_minor": 5
}
